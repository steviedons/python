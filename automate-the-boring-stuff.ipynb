{
 "cells": [
  {
   "cell_type": "code",
   "execution_count": 5,
   "metadata": {},
   "outputs": [
    {
     "name": "stdout",
     "output_type": "stream",
     "text": [
      "Phone number found: 415-555-4242\n"
     ]
    }
   ],
   "source": [
    "import re\n",
    "\n",
    "# Pass a raw string so you dont have to be escaped\n",
    "# add the brackets to create groups within the regex and the ? means optional match\n",
    "# with the ? this would match even if the number does not have an area code\n",
    "phoneNumRegex = re.compile(r'(\\d\\d\\d)?-\\d\\d\\d-\\d\\d\\d\\d')\n",
    "# Thia was .search in the example but that returns just one occurance if found\n",
    "mo = phoneNumRegex.search('My number is 415-555-4242. And my second number 666-3232')\n",
    "print('Phone number found: ' + mo.group())"
   ]
  }
 ],
 "metadata": {
  "kernelspec": {
   "display_name": "Python 3",
   "language": "python",
   "name": "python3"
  },
  "language_info": {
   "codemirror_mode": {
    "name": "ipython",
    "version": 3
   },
   "file_extension": ".py",
   "mimetype": "text/x-python",
   "name": "python",
   "nbconvert_exporter": "python",
   "pygments_lexer": "ipython3",
   "version": "3.6.3"
  }
 },
 "nbformat": 4,
 "nbformat_minor": 2
}
